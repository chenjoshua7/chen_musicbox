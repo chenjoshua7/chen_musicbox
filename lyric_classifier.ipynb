{
 "cells": [
  {
   "cell_type": "code",
   "execution_count": 3,
   "metadata": {},
   "outputs": [],
   "source": [
    "import pandas as pd\n",
    "import numpy as np\n",
    "import re"
   ]
  },
  {
   "cell_type": "code",
   "execution_count": 5,
   "metadata": {},
   "outputs": [],
   "source": [
    "data = pd.read_feather(\"data_preprocessing/filtered_data.feather\")"
   ]
  },
  {
   "cell_type": "code",
   "execution_count": 6,
   "metadata": {},
   "outputs": [],
   "source": [
    "x = data.lyrics\n",
    "y = data.tag"
   ]
  },
  {
   "cell_type": "code",
   "execution_count": 20,
   "metadata": {},
   "outputs": [
    {
     "data": {
      "text/plain": [
       "<Experiment: artifact_location='mlflow-artifacts:/710064176314707886', creation_time=1723632908969, experiment_id='710064176314707886', last_update_time=1723632908969, lifecycle_stage='active', name='chens musicbox', tags={}>"
      ]
     },
     "execution_count": 20,
     "metadata": {},
     "output_type": "execute_result"
    }
   ],
   "source": [
    "import mlflow\n",
    "import mlflow.sklearn\n",
    "\n",
    "mlflow.set_tracking_uri(\"http://127.0.0.1:5000\")\n",
    "mlflow.set_experiment(\"chens musicbox\")"
   ]
  },
  {
   "cell_type": "code",
   "execution_count": 27,
   "metadata": {},
   "outputs": [
    {
     "data": {
      "text/plain": [
       "['.DS_Store',\n",
       " 'mlartifacts',\n",
       " 'modeling',\n",
       " 'mlruns',\n",
       " 'README.md',\n",
       " 'data_preprocessing',\n",
       " 'lyric_classifier.ipynb',\n",
       " '.git']"
      ]
     },
     "execution_count": 27,
     "metadata": {},
     "output_type": "execute_result"
    }
   ],
   "source": [
    "os.listdir()"
   ]
  },
  {
   "cell_type": "code",
   "execution_count": 41,
   "metadata": {},
   "outputs": [
    {
     "ename": "TypeError",
     "evalue": "write_feather() got an unexpected keyword argument 'index'",
     "output_type": "error",
     "traceback": [
      "\u001b[0;31m---------------------------------------------------------------------------\u001b[0m",
      "\u001b[0;31mTypeError\u001b[0m                                 Traceback (most recent call last)",
      "Cell \u001b[0;32mIn[41], line 1\u001b[0m\n\u001b[0;32m----> 1\u001b[0m \u001b[43mpd\u001b[49m\u001b[38;5;241;43m.\u001b[39;49m\u001b[43mDataFrame\u001b[49m\u001b[43m(\u001b[49m\u001b[43mpd\u001b[49m\u001b[38;5;241;43m.\u001b[39;49m\u001b[43mread_feather\u001b[49m\u001b[43m(\u001b[49m\u001b[38;5;124;43m\"\u001b[39;49m\u001b[38;5;124;43mmodeling/processed_lyrics.feather\u001b[39;49m\u001b[38;5;124;43m\"\u001b[39;49m\u001b[43m)\u001b[49m\u001b[43m[\u001b[49m\u001b[38;5;241;43m0\u001b[39;49m\u001b[43m]\u001b[49m\u001b[43m)\u001b[49m\u001b[38;5;241;43m.\u001b[39;49m\u001b[43mto_feather\u001b[49m\u001b[43m(\u001b[49m\u001b[38;5;124;43m\"\u001b[39;49m\u001b[38;5;124;43mmodeling/processed_lyrics.feather\u001b[39;49m\u001b[38;5;124;43m\"\u001b[39;49m\u001b[43m,\u001b[49m\u001b[43m \u001b[49m\u001b[43mindex\u001b[49m\u001b[43m \u001b[49m\u001b[38;5;241;43m=\u001b[39;49m\u001b[43m \u001b[49m\u001b[38;5;28;43;01mFalse\u001b[39;49;00m\u001b[43m)\u001b[49m\n",
      "File \u001b[0;32m~/anaconda3/envs/uni/lib/python3.11/site-packages/pandas/core/frame.py:2926\u001b[0m, in \u001b[0;36mDataFrame.to_feather\u001b[0;34m(self, path, **kwargs)\u001b[0m\n\u001b[1;32m   2898\u001b[0m \u001b[38;5;250m\u001b[39m\u001b[38;5;124;03m\"\"\"\u001b[39;00m\n\u001b[1;32m   2899\u001b[0m \u001b[38;5;124;03mWrite a DataFrame to the binary Feather format.\u001b[39;00m\n\u001b[1;32m   2900\u001b[0m \n\u001b[0;32m   (...)\u001b[0m\n\u001b[1;32m   2922\u001b[0m \u001b[38;5;124;03m>>> df.to_feather(\"file.feather\")  # doctest: +SKIP\u001b[39;00m\n\u001b[1;32m   2923\u001b[0m \u001b[38;5;124;03m\"\"\"\u001b[39;00m\n\u001b[1;32m   2924\u001b[0m \u001b[38;5;28;01mfrom\u001b[39;00m \u001b[38;5;21;01mpandas\u001b[39;00m\u001b[38;5;21;01m.\u001b[39;00m\u001b[38;5;21;01mio\u001b[39;00m\u001b[38;5;21;01m.\u001b[39;00m\u001b[38;5;21;01mfeather_format\u001b[39;00m \u001b[38;5;28;01mimport\u001b[39;00m to_feather\n\u001b[0;32m-> 2926\u001b[0m \u001b[43mto_feather\u001b[49m\u001b[43m(\u001b[49m\u001b[38;5;28;43mself\u001b[39;49m\u001b[43m,\u001b[49m\u001b[43m \u001b[49m\u001b[43mpath\u001b[49m\u001b[43m,\u001b[49m\u001b[43m \u001b[49m\u001b[38;5;241;43m*\u001b[39;49m\u001b[38;5;241;43m*\u001b[39;49m\u001b[43mkwargs\u001b[49m\u001b[43m)\u001b[49m\n",
      "File \u001b[0;32m~/anaconda3/envs/uni/lib/python3.11/site-packages/pandas/io/feather_format.py:66\u001b[0m, in \u001b[0;36mto_feather\u001b[0;34m(df, path, storage_options, **kwargs)\u001b[0m\n\u001b[1;32m     61\u001b[0m     \u001b[38;5;28;01mraise\u001b[39;00m \u001b[38;5;167;01mValueError\u001b[39;00m(\u001b[38;5;124m\"\u001b[39m\u001b[38;5;124mfeather only support IO with DataFrames\u001b[39m\u001b[38;5;124m\"\u001b[39m)\n\u001b[1;32m     63\u001b[0m \u001b[38;5;28;01mwith\u001b[39;00m get_handle(\n\u001b[1;32m     64\u001b[0m     path, \u001b[38;5;124m\"\u001b[39m\u001b[38;5;124mwb\u001b[39m\u001b[38;5;124m\"\u001b[39m, storage_options\u001b[38;5;241m=\u001b[39mstorage_options, is_text\u001b[38;5;241m=\u001b[39m\u001b[38;5;28;01mFalse\u001b[39;00m\n\u001b[1;32m     65\u001b[0m ) \u001b[38;5;28;01mas\u001b[39;00m handles:\n\u001b[0;32m---> 66\u001b[0m     \u001b[43mfeather\u001b[49m\u001b[38;5;241;43m.\u001b[39;49m\u001b[43mwrite_feather\u001b[49m\u001b[43m(\u001b[49m\u001b[43mdf\u001b[49m\u001b[43m,\u001b[49m\u001b[43m \u001b[49m\u001b[43mhandles\u001b[49m\u001b[38;5;241;43m.\u001b[39;49m\u001b[43mhandle\u001b[49m\u001b[43m,\u001b[49m\u001b[43m \u001b[49m\u001b[38;5;241;43m*\u001b[39;49m\u001b[38;5;241;43m*\u001b[39;49m\u001b[43mkwargs\u001b[49m\u001b[43m)\u001b[49m\n",
      "\u001b[0;31mTypeError\u001b[0m: write_feather() got an unexpected keyword argument 'index'"
     ]
    }
   ],
   "source": [
    "pd.DataFrame(pd.read_feather(\"modeling/processed_lyrics.feather\")[0]).to_feather(\"modeling/processed_lyrics.feather\", index = False)"
   ]
  },
  {
   "cell_type": "markdown",
   "metadata": {},
   "source": [
    "## Preprocessing"
   ]
  },
  {
   "cell_type": "code",
   "execution_count": 7,
   "metadata": {},
   "outputs": [],
   "source": [
    "from sklearn.model_selection import train_test_split"
   ]
  },
  {
   "cell_type": "code",
   "execution_count": 8,
   "metadata": {},
   "outputs": [],
   "source": [
    "def preprocess_text(x):\n",
    "    x_ = x.copy()\n",
    "    x_ = x_.apply(lambda x: x.replace('\\n', ' '))\n",
    "    x_ = x_.apply(lambda x: x.replace('\\u2005', ' '))\n",
    "    x_ = [re.sub(r'\\[.*?\\]\\s*', '', line) for line in x_]\n",
    "    x_ = [re.sub(r'\\(.*?\\)\\s*', '', line) for line in x_]\n",
    "    return x_"
   ]
  },
  {
   "cell_type": "code",
   "execution_count": 9,
   "metadata": {},
   "outputs": [],
   "source": [
    "x = preprocess_text(x)"
   ]
  },
  {
   "cell_type": "code",
   "execution_count": 10,
   "metadata": {},
   "outputs": [],
   "source": [
    "X_train, X_test, y_train, y_test = train_test_split(x, y, train_size=0.3, random_state=1234, shuffle = True)"
   ]
  },
  {
   "cell_type": "code",
   "execution_count": 11,
   "metadata": {},
   "outputs": [
    {
     "data": {
      "text/plain": [
       "[\"I'm leaning on the everlasting arms That place me on the Rock that stands And I hold true to the One who breaks my fall And lifts me time and time again  Oh, my God so good, You never give up You never give up on me Oh, what joy I've found because of Your love Because of Your love for me Oh, my God so good, You never give up You never give up on me Oh, what joy I've found because of Your love Because of Your love for me  This freedom purchased by the highest price This grace outweighing all my shame And I'm made new through the power of sacrifice From death now raised to life again Oh, my God so good, You never give up You never give up on me Oh, what joy I've found because of Your love Because of Your love for me Oh, my God so good, You never give up You never give up on me Oh, what joy I've found because of Your love Because of Your love for me, yeah This love for me, yeah Oh-ohh  I'm not a slave to sin so I'm singing You are good Buried the Christ to rise in Your freedom You are good When You make the promise, Jesus, You keep it You are good So I'll praise Your name as long as I'm breathing 'Cause You are good I'm not a slave to sin so I'm singing You are good Buried the Christ to rise in Your freedom You are good When You make the promise, Jesus, You keep it You are good So I'll praise Your name as long as I'm breathing 'Cause You are good, yeah Oh, my God so good, You never give up You never give up on me Oh, what joy I've found because of Your love Because of Your love for me Oh, my God so good, You never give up You never give up on me Oh, what joy I've found because of Your love Because of Your love for me, yeah Oh, my God so good, You never give up You never give up on me Oh, what joy I've found because of Your love Because of Your love for me, yeah This love for me, yeah No, you're never giving up on me  You never let me go It's the love of the Father Thank You, Jesus Whoa-oh\",\n",
       " \"Slept high up in the Rockies Set my clock for Californ-i-ey-aye And I dreamed up somethin' special to give that ocean Man, she cuffs me anyway  So I'm banking on Virginia To keep me calm and clear and straight Just like clock work seems to tell us With every passing storm there's just a harder hail  So light my way, Virginia May I can't sit still, just pace across this hallway We spent all this time Just trading crimes While the tune-smith packed a lunch He's headed down the coastline  There's a loneliness that's blowin' Well I heard it from the radio man He's been locked up in the belfry Listening close to a string upon a can Me, I'm sailin' on to that savior She's a pilgrim living on the modern time And ever since I found her magic Now every car or cloud that passes is a sign  Light my way, Virginia May I can't sit still just pace across this hallway We spent all this time Just trading crimes  And I'm saving all my sleep for another life I'm saving all my sleep for another life\",\n",
       " \"Holy, holy, holy is the Lamb Almighty, almighty, almighty is the Lord  It’s unlocked in His left are the keys to death and hell And in His other palm are seven stars Silently circling like seven seals and sounds and seven cycles Seventy sets of seven are prophesied Before the King comes from Heaven The earth will quake and men’s hearts will shake When they hear the war drum And I’m talking about Creator of the mountains I’m talking about the One who gave up His Son I’m singing about the One who died for everyone That in His blood He’s giving us real freedom Brought by one, bought by One Son Someone from the Kingdom come He was, and is, and is to come Healing the deaf and dumb His words cut the dark like a sharp weapon light Wrong or right? All mankind was blind and He came to give us sight Wrong or right? Tell me, what is it about the name of Jesus Christ It makes men fight within Against the sin, against the night, dark or light Day and night Polarized This is not a grey matter choice And don’t blame it on another man's\\u200b voice Because time keeps on slipping, into the future I don’t wanna lose you You must make a decision soon Be it life, or death Holy, holy, holy, is the Lamb That was slain, that was slain Worthy is His name, worthy is His name  YHWH  He was, and is, and is to come\",\n",
       " \"Where the fence is low And the water is rising And the fire comes down And the dark fills the skies in One foot on the ledge One feeling for safety Somewhere between sure And I don't know, maybe  I'm off of my rope here I'm off on my own here I find my hope here I find my own here I'm off of my rope here Where the fence is low  Where the fence is low, low, low Where the fence is low, low, low Each shadow I walk To the ends of the forest And the shape of the hands That break the ground for us The fear that contains That binds like a blessing I've been here before Then again I’m guessing  I'm off of my rope here I'm off on my own here I find my hope here I find my own here I'm off of my rope here Where the fence is low  Where the fence is low, low, low Where the fence is low, low, low  Woah, woah, woah, woah Ooh, ooh, ooh, ooh I'm off of my rope here I'm off on my own here I find my hope here I find my own here I'm off of my rope here Where the fence is low, low, low\",\n",
       " 'Right off the bat I was scared what you’d think I could barely play, not even old enough to drink Started off well but spiraled quickly Couldn’t see the forest through how you’d treat me  It’s a bad sign when the fights were never Asking if we really belong together Can’t stop now cause we’ve got plans, we’ve got plans, we’ve got plans  You think of leaving, you think of change But you’ve worked so hard for what the con’s outweigh Repetition becomes so comforting Barely notice when someone stops listening  Can I admit that we are better off independently? Can’t stop now cause we’ve got plans, we’ve got plans, we’ve got plans  I drew so many lines but then I still put up with it In public, party, in private, hell You love me like a sibling that you hate a little bit It don’t mean much to me if you mean well Cause I’ve got plans for me',\n",
       " \"Again, you're gone Off on a different path than mine I'm left behind Wondering if I should follow You had to go And, of course, it's always fine I probably could catch up with you tomorrow  But is this what it feels like To be growing apart? When did I become the one Who's always chasing your heart?  Now I turn around and find I am lost in the woods North is south, right is left When you're gone I'm the one who sees you home But now I'm lost in the woods And I don't know what path you are on I'm lost in the woods Up 'til now The next step was a question of how I never thought it was a question of whether Who am I, if I'm not your guy? Where am I, if we're not together Forever?  Now I know you're my true north 'Cause I am lost in the woods Up is down, day is night When you're not there Oh, you're my only landmark So I'm lost in the woods Wondering if you still care  But I'll wait For a sign That I'm your path 'Cause you are mine Until then I'm lost in the woods  Lost in the woods, in the woods, in the woods I'm lost in the woods Lost in the woods, I'm lost I'm lost in the woods\",\n",
       " \"This jam is way out, way out You fake MC's are on your way out Way out Too bad you're on your way out  This is a way out jam For some way out girls The ones that are constantly Rocking your world  With the hyper cuts And the slamming beats  That make you other girls sound oh so weak  But that's O.K We know how it is J.J. Fad reigns supreme in the rapping biz  I've got something to say I'm kinda mad This is coming from The one and only J.J. Fad  You may try to bag You may try to diss That just lets us know who's running this  Yeah We're getting stupid And there's no doubt That this here jam Is just so way out  Sassy  We're busting the charts Every week And we'll stay on top And you know that we are freaks We're here to please So get on your knees And pray to be like us Before you take your Z's  We have a classy style That's worth your while So sit back and relax And let us get you riled  Now that you know What we're talking about Then you too can be way out  The W is for wild The A is amazing The Y is for you suckas that are perpetrating The O is for outstanding And the U is for unique The T is for too bad Your jam is so, so weak \",\n",
       " '\"I, Johannes Faust, do call upon thee, Mephistopheles!\"  O growing Moon, didst thou but shine A last time on this pain of mine Behind this desk how oft have I At midnight seen thee rising high O\\'er book and paper I bend Thou didst appear, o mournful friend  I am the spirit that ever denies! And justly so: for all that is born Deserves to be destroyed in scorn Therefore \\'twere best if nothing were created Destruction, sin, wickedness - plainly stated All of which you as evil have classified That is my element - there I abide  Scatter the stars with a lavish hand Water, fire, tavern wall Birds and beasts, all within command Thus in our narrow booth today Creation\\'s ample scope display Wander swiftly, observing well From the Heavens, to the World, to Hell! The World of Spirits is not barred to thee!  \"Now then, Faustus. What wouldst thou have Mephisto do?\" \"I charge thee, Mephisto, wait upon me while I live... to do whatever Faustus shall command. Be it to make the moon drop from outer sphere, or the ocean to overwhelm the world. Go bear these tidings to great Lucifer: say he surrenders up his soul. So that he shall spare him four and twenty years, letting him live in all voluptiousness, having thee ever to attend on me. To give me whatsoever I shall ask.\"  \"I will.\"  Sublime spirit, thou hast given me all All for which I besought thee, not in vain Didst thou reveal thy countenance in the fire Thou hast given me Nature for a kingdom With the power to enjoy and feel Only a visit of chilling bewilderment Thou bringest all the living creatures And taught me to know my brothers in the Air In the deep waters and in the silent coverts When through the forest the storm rages Uprooting the giant pines which in their fall Crushing, drag down neighboring boughs and trunks Whose hollow thunder shake the hills Then thou dost lead me to a sheltering cave And revealest me to myself and layest bare The deep mysterious miracle of my Nature And when the pure moon rises into sight Soothingly above me, then about me hover Creeping from rocky walls and dewy thickets Silver shadows, phantoms of a bygone world Which allay the austere joy of meditation Now fully do I realize that Man Can never possess perfection With this ecstasy which brings me near and nearer To the Gods  My mother the harlot put me to death My father the scoundrel ate my flesh My dear little sister laid all my bones In a dark shaded place under the stones Then I changed into a wood-bird Fluttering away Fly away  Mankind, that foolish Cosmos Always acts as incomplete He thought himself to Be I am part of that part which was the Absolute A part of that Darkness which gave birth to Light The arrogant Light which would dispute Ancient rank of Mother Night Therefore I hope it won\\'t be long before With matter it shall perish evermore!  Scatter the stars with a lavish hand Water, fire, tavern wall Birds and beasts, all within command Thus in our narrow booth today Creation\\'s ample scope display Wander swiftly, observing well From the Heavens to the World The World of Spirits is not barred to thee!  \"So, still I seek the force, the reason governing life\\'s flow, and not just its external show.\" \"The governing force? The reason? Some things cannot be known; they are beyond your reach even when shown.\" \"Why should that be so?\" \"They lie outside the boundaries that words can address; and man can only grasp those thoughts which language can express.\" \"What? Do you mean that words are greater yet than man?\" \"Indeed they are.\" \"Then what of longing? Or affection, pain and grief? I can\\'t describe these, yet I know they are in my breast. What are they?\"\" \"Without substance, as mist is.\" \"In that case man is only air as well!\"',\n",
       " \"Ooh, now I might need some relief I'm in a state of mind I'm finding kind of hard to believe, oh no I don't know really how this could be How a man knows so much better than his actions And his remedies, and I know, I shouldn't worry on these little things, yeah I know I can't predict these things this life will bring, yeah I know a lot of things were only in my brain I try to realise I might realise I'm in another game, and  And the same little things creep into my head Find their space, and they start to build their well I'm the prey to every predatory thought I just pray, every day, that I don't get caught And the same little things creep into my head Find their space, and they start to build their well I'm the prey to every predatory thought I just pray, every day, that I don't get caught Ooh, now I might need a professional Your reflection ever look as if it's gettin' the best of you? Your clock tick like it's timin' and testin' you? Do you ever lose your breath and feel your chest is tryna threaten you, well I know, I shouldn't worry on these little things, yeah I know that it's unnecessary stress and strain, yeah I know a lot of things, but only in my brain I try to realise I might realise I'm on a different plane and  And the same little things creep into my head Find their space, and they start to build their well I'm the prey to every predatory thought I just pray, every day, that I don't get caught And the same little things creep into my head Find their space, and they start to build their well I'm the prey to every predatory thought I just pray, every day, that I don't get caught\",\n",
       " \"Oh-ooh Yeah, you're poisoning me But I love the way it taste Fuck me all night, take me so high until the plane crash Don't care if I die, I'm off them pills, I'm tryna chase that Shawty got face tats, she brought the party bag And did a face plant, woke up in a body bag Lost all my money, can't chill, I can't relax And I don't care, and it kills me, Ima relapse And I don't care, and it kills me, Ima relapse And I don't care, and it kills me, Ima relapse  Rather not be alive than be all alone Got a new line evеry time you call my phone And I know it's pathetic, and you'rе not sympathetic Place my heart where my head is, crashin' my car into a dead end Set my soul on fire, let the ashes burn I know you ain't ever want me, it was just my turn I guess I'll never learn, momma don't get concerned This ain't what I deserve, throw me into the furnace I like the way it's hurtin', think I tried to make it work Woulda bought your favorite purse, now I'm back to takin' percs Baby, there ain't no surgery for fixing broken hearts I know that it was all my fault, I watched it fall apart Oh-ooh Yeah, you're poisoning me But I love the way it taste Fuck me all night, take me so high until the plane crash Don't care if I die, I'm off them pills, I'm tryna chase that Shawty got face tats, she brought the pain back And did a face plant, woke up in a body bag Lost all my money, can't chill, I can relapse And I don't care, and it kills me, Ima relapse And I don't care, and it kills me, Ima relapse And I don't care, and it kills me, Ima relapse  \"]"
      ]
     },
     "execution_count": 11,
     "metadata": {},
     "output_type": "execute_result"
    }
   ],
   "source": [
    "X_train[:10]"
   ]
  },
  {
   "cell_type": "markdown",
   "metadata": {},
   "source": [
    "## Baseline with LR"
   ]
  },
  {
   "cell_type": "code",
   "execution_count": 12,
   "metadata": {},
   "outputs": [],
   "source": [
    "from sklearn.feature_extraction.text import CountVectorizer, TfidfVectorizer"
   ]
  },
  {
   "cell_type": "code",
   "execution_count": 13,
   "metadata": {},
   "outputs": [],
   "source": [
    "vectorizer = CountVectorizer(ngram_range = (1,2), max_df = 0.5, stop_words='english')"
   ]
  },
  {
   "cell_type": "code",
   "execution_count": 14,
   "metadata": {},
   "outputs": [],
   "source": [
    "from sklearn.pipeline import Pipeline\n",
    "from sklearn.preprocessing import StandardScaler\n",
    "from sklearn.multiclass import OneVsRestClassifier\n",
    "from sklearn.linear_model import LogisticRegression\n",
    "from sklearn.model_selection import GridSearchCV\n"
   ]
  },
  {
   "cell_type": "code",
   "execution_count": 15,
   "metadata": {},
   "outputs": [],
   "source": [
    "import os\n",
    "import pickle"
   ]
  },
  {
   "cell_type": "code",
   "execution_count": null,
   "metadata": {},
   "outputs": [],
   "source": [
    "pipeline = Pipeline([\n",
    "    (\"tfidf\", TfidfVectorizer(min_df = 0.01, max_df = 0.1, ngram_range = (1,2), stop_words = \"english\")),\n",
    "    (\"scale\", StandardScaler(with_mean=False)),\n",
    "    (\"lr\", OneVsRestClassifier(LogisticRegression(solver='liblinear', multi_class='ovr', penalty = \"l1\"))),\n",
    "])\n",
    "\n",
    "\n",
    "param_grid = {\n",
    "    'tfidf__min_df': [100, 0.01, 0.05],\n",
    "    'tfidf__max_df': [0.1, 0.7],\n",
    "    'lr__estimator__penalty': ['l1', 'l2'], # Access nested parameters for OneVsRestClassifier\n",
    "    'lr__estimator__max_iter': [100, 300]\n",
    "}\n",
    "\n",
    "grid_search = GridSearchCV(pipeline, param_grid, cv=5, n_jobs=-1, scoring=\"accuracy\", verbose = 3)\n",
    "\n",
    "\n",
    "pipeline.fit(X_train, y_train)\n",
    "\n",
    "with open(os.path.join('baseline.pkl'), 'wb') as file:\n",
    "    pickle.dump(pipeline, file)"
   ]
  },
  {
   "cell_type": "code",
   "execution_count": null,
   "metadata": {},
   "outputs": [],
   "source": []
  },
  {
   "cell_type": "markdown",
   "metadata": {},
   "source": [
    "## Training"
   ]
  },
  {
   "cell_type": "code",
   "execution_count": 57,
   "metadata": {},
   "outputs": [],
   "source": [
    "from transformers import DistilBertModel, DistilBertTokenizer\n",
    "import torch"
   ]
  },
  {
   "cell_type": "code",
   "execution_count": 55,
   "metadata": {},
   "outputs": [
    {
     "data": {
      "application/vnd.jupyter.widget-view+json": {
       "model_id": "a2b9e0f8c5134ccda3330d829185d0c3",
       "version_major": 2,
       "version_minor": 0
      },
      "text/plain": [
       "tokenizer_config.json:   0%|          | 0.00/49.0 [00:00<?, ?B/s]"
      ]
     },
     "metadata": {},
     "output_type": "display_data"
    },
    {
     "data": {
      "application/vnd.jupyter.widget-view+json": {
       "model_id": "f2b13605d72e49c9932a661dfe7c27d6",
       "version_major": 2,
       "version_minor": 0
      },
      "text/plain": [
       "vocab.txt:   0%|          | 0.00/213k [00:00<?, ?B/s]"
      ]
     },
     "metadata": {},
     "output_type": "display_data"
    },
    {
     "data": {
      "application/vnd.jupyter.widget-view+json": {
       "model_id": "dfbe1d076d78496a83ba338ba72bbcea",
       "version_major": 2,
       "version_minor": 0
      },
      "text/plain": [
       "tokenizer.json:   0%|          | 0.00/436k [00:00<?, ?B/s]"
      ]
     },
     "metadata": {},
     "output_type": "display_data"
    },
    {
     "data": {
      "application/vnd.jupyter.widget-view+json": {
       "model_id": "a14df36effdc4e3d91b698fdd264fa12",
       "version_major": 2,
       "version_minor": 0
      },
      "text/plain": [
       "config.json:   0%|          | 0.00/465 [00:00<?, ?B/s]"
      ]
     },
     "metadata": {},
     "output_type": "display_data"
    }
   ],
   "source": [
    "MAX_LEN = 512\n",
    "TRAIN_BATCH_SIZE = 4\n",
    "VALID_BATCH_SIZE = 2\n",
    "EPOCHS = 1\n",
    "LEARNING_RATE = 1e-05\n",
    "tokenizer = DistilBertTokenizer.from_pretrained('distilbert-base-cased')"
   ]
  },
  {
   "cell_type": "code",
   "execution_count": 58,
   "metadata": {},
   "outputs": [],
   "source": [
    "class DistillBERTClass(torch.nn.Module):\n",
    "    def __init__(self):\n",
    "        super(DistillBERTClass, self).__init__()\n",
    "        self.l1 = DistilBertModel.from_pretrained(\"distilbert-base-uncased\")\n",
    "        self.pre_classifier = torch.nn.Linear(768, 768)\n",
    "        self.dropout = torch.nn.Dropout(0.3)\n",
    "        self.classifier = torch.nn.Linear(768, 4)\n",
    "\n",
    "    def forward(self, input_ids, attention_mask):\n",
    "        output_1 = self.l1(input_ids=input_ids, attention_mask=attention_mask)\n",
    "        hidden_state = output_1[0]\n",
    "        pooler = hidden_state[:, 0]\n",
    "        pooler = self.pre_classifier(pooler)\n",
    "        pooler = torch.nn.ReLU()(pooler)\n",
    "        pooler = self.dropout(pooler)\n",
    "        output = self.classifier(pooler)\n",
    "        return output"
   ]
  },
  {
   "cell_type": "code",
   "execution_count": 60,
   "metadata": {},
   "outputs": [],
   "source": [
    "model = DistillBERTClass()\n",
    "\n",
    "loss_function = torch.nn.CrossEntropyLoss()\n",
    "optimizer = torch.optim.Adam(params =  model.parameters(), lr=LEARNING_RATE)"
   ]
  },
  {
   "cell_type": "code",
   "execution_count": 63,
   "metadata": {},
   "outputs": [],
   "source": [
    "def calcuate_accu(big_idx, targets):\n",
    "    n_correct = (big_idx==targets).sum().item()\n",
    "    return n_correct"
   ]
  },
  {
   "cell_type": "code",
   "execution_count": 64,
   "metadata": {},
   "outputs": [],
   "source": [
    "def train(epoch):\n",
    "    tr_loss = 0\n",
    "    n_correct = 0\n",
    "    nb_tr_steps = 0\n",
    "    nb_tr_examples = 0\n",
    "    model.train()\n",
    "    for _,data in enumerate(training_loader, 0):\n",
    "        ids = data['ids'].to(device, dtype = torch.long)\n",
    "        mask = data['mask'].to(device, dtype = torch.long)\n",
    "        targets = data['targets'].to(device, dtype = torch.long)\n",
    "\n",
    "        outputs = model(ids, mask)\n",
    "        loss = loss_function(outputs, targets)\n",
    "        tr_loss += loss.item()\n",
    "        big_val, big_idx = torch.max(outputs.data, dim=1)\n",
    "        n_correct += calcuate_accu(big_idx, targets)\n",
    "\n",
    "        nb_tr_steps += 1\n",
    "        nb_tr_examples+=targets.size(0)\n",
    "        \n",
    "        if _%5000==0:\n",
    "            loss_step = tr_loss/nb_tr_steps\n",
    "            accu_step = (n_correct*100)/nb_tr_examples \n",
    "            print(f\"Training Loss per 5000 steps: {loss_step}\")\n",
    "            print(f\"Training Accuracy per 5000 steps: {accu_step}\")\n",
    "\n",
    "        optimizer.zero_grad()\n",
    "        loss.backward()\n",
    "        # # When using GPU\n",
    "        optimizer.step()\n",
    "\n",
    "    print(f'The Total Accuracy for Epoch {epoch}: {(n_correct*100)/nb_tr_examples}')\n",
    "    epoch_loss = tr_loss/nb_tr_steps\n",
    "    epoch_accu = (n_correct*100)/nb_tr_examples\n",
    "    print(f\"Training Loss Epoch: {epoch_loss}\")\n",
    "    print(f\"Training Accuracy Epoch: {epoch_accu}\")\n",
    "\n",
    "    return "
   ]
  },
  {
   "cell_type": "code",
   "execution_count": null,
   "metadata": {},
   "outputs": [],
   "source": []
  }
 ],
 "metadata": {
  "kernelspec": {
   "display_name": "base",
   "language": "python",
   "name": "python3"
  },
  "language_info": {
   "codemirror_mode": {
    "name": "ipython",
    "version": 3
   },
   "file_extension": ".py",
   "mimetype": "text/x-python",
   "name": "python",
   "nbconvert_exporter": "python",
   "pygments_lexer": "ipython3",
   "version": "3.11.5"
  }
 },
 "nbformat": 4,
 "nbformat_minor": 2
}
