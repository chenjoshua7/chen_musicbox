{
 "cells": [
  {
   "cell_type": "code",
   "execution_count": 147,
   "metadata": {},
   "outputs": [],
   "source": [
    "from fastapi import FastAPI, Request\n",
    "from pydantic import BaseModel\n",
    "import torch\n",
    "from transformers import AutoTokenizer, DistilBertConfig\n",
    "\n",
    "import sys \n",
    "import os\n",
    "import torch.nn.functional as F\n",
    "\n",
    "    \n",
    "import torch.nn as nn\n",
    "from transformers import DistilBertModel\n",
    "\n",
    "app = FastAPI()\n",
    "\n",
    "class TextInput(BaseModel):\n",
    "    text: str\n",
    "    \n",
    "    \n",
    "class DistilBertForSequenceClassification(nn.Module):\n",
    "    def __init__(self, config):\n",
    "        super().__init__()\n",
    "        self.num_labels = config.num_labels\n",
    "\n",
    "        self.distilbert = DistilBertModel.from_pretrained('distilbert-base-uncased')\n",
    "        self.pre_classifier = nn.Linear(config.hidden_size, config.hidden_size)\n",
    "        self.classifier = nn.Linear(config.hidden_size, config.num_labels)\n",
    "        self.dropout = nn.Dropout(config.seq_classif_dropout)\n",
    "\n",
    "        nn.init.xavier_normal_(self.classifier.weight)\n",
    "\n",
    "    def forward(self, input_ids=None, attention_mask=None, head_mask=None, labels=None):\n",
    "        distilbert_output = self.distilbert(input_ids=input_ids,\n",
    "                                            attention_mask=attention_mask,\n",
    "                                            head_mask=head_mask)\n",
    "        hidden_state = distilbert_output[0]                    \n",
    "        pooled_output = hidden_state[:, 0]                   \n",
    "        pooled_output = self.pre_classifier(pooled_output)   \n",
    "        pooled_output = nn.ReLU()(pooled_output)             \n",
    "        pooled_output = self.dropout(pooled_output)        \n",
    "        logits = self.classifier(pooled_output) \n",
    "        probs = F.softmax(logits, dim = -1)\n",
    "        return probs\n",
    "    \n",
    "\n",
    "config = DistilBertConfig(num_labels=5)\n",
    "model = DistilBertForSequenceClassification(config=config)\n",
    "model.load_state_dict(torch.load(\"distilbert_model_state.pth\", weights_only=False))\n",
    "model.eval()\n",
    "\n",
    "\n",
    "tokenizer = AutoTokenizer.from_pretrained(\"distilbert-base-uncased\")\n",
    "\n",
    "class TextInput(BaseModel):\n",
    "    text: str\n",
    "\n",
    "@app.get(\"/\")\n",
    "async def read_root():\n",
    "    return {\"message\": \"Welcome to the FastAPI application!\"}\n",
    "\n",
    "@app.post(\"/predict/\")\n",
    "async def predict(input: TextInput):\n",
    "    inputs = tokenizer(input.text, return_tensors=\"pt\", truncation=True, padding=True, max_length=512)\n",
    "    with torch.no_grad():\n",
    "        outputs = model(**inputs)\n",
    "    logits = outputs\n",
    "    predicted_class = logits.argmax().item()\n",
    "    return {\"prediction\": predicted_class}\n",
    "\n"
   ]
  },
  {
   "cell_type": "code",
   "execution_count": 148,
   "metadata": {},
   "outputs": [
    {
     "data": {
      "text/plain": [
       "{'rap': 0, 'rock': 1, 'rb': 2, 'pop': 3, 'country': 4}"
      ]
     },
     "execution_count": 148,
     "metadata": {},
     "output_type": "execute_result"
    }
   ],
   "source": [
    "{\"rap\": 0, \"rock\": 1, \"rb\": 2, \"pop\": 3, \"country\": 4}"
   ]
  },
  {
   "cell_type": "code",
   "execution_count": 149,
   "metadata": {},
   "outputs": [],
   "source": [
    "import requests\n",
    "\n",
    "# URL of the FastAPI endpoint\n",
    "url = \"http://127.0.0.1:80/predict/\"\n",
    "\n"
   ]
  },
  {
   "cell_type": "code",
   "execution_count": 150,
   "metadata": {},
   "outputs": [
    {
     "ename": "FileNotFoundError",
     "evalue": "[Errno 2] No such file or directory: '3_0.72_full.pth'",
     "output_type": "error",
     "traceback": [
      "\u001b[0;31m---------------------------------------------------------------------------\u001b[0m",
      "\u001b[0;31mFileNotFoundError\u001b[0m                         Traceback (most recent call last)",
      "Cell \u001b[0;32mIn[150], line 4\u001b[0m\n\u001b[1;32m      2\u001b[0m config \u001b[38;5;241m=\u001b[39m DistilBertConfig(num_labels\u001b[38;5;241m=\u001b[39m\u001b[38;5;241m5\u001b[39m)\n\u001b[1;32m      3\u001b[0m model \u001b[38;5;241m=\u001b[39m DistilBertForSequenceClassification(config\u001b[38;5;241m=\u001b[39mconfig)\n\u001b[0;32m----> 4\u001b[0m model \u001b[38;5;241m=\u001b[39m \u001b[43mload_model\u001b[49m\u001b[43m(\u001b[49m\u001b[43mbest_model\u001b[49m\u001b[43m,\u001b[49m\u001b[43m \u001b[49m\u001b[43mmodel\u001b[49m\u001b[43m)\u001b[49m\n",
      "Cell \u001b[0;32mIn[130], line 46\u001b[0m, in \u001b[0;36mload_model\u001b[0;34m(path, model)\u001b[0m\n\u001b[1;32m     45\u001b[0m \u001b[38;5;28;01mdef\u001b[39;00m \u001b[38;5;21mload_model\u001b[39m(path, model):\n\u001b[0;32m---> 46\u001b[0m     checkpoint \u001b[38;5;241m=\u001b[39m \u001b[43mtorch\u001b[49m\u001b[38;5;241;43m.\u001b[39;49m\u001b[43mload\u001b[49m\u001b[43m(\u001b[49m\u001b[43mpath\u001b[49m\u001b[43m,\u001b[49m\u001b[43m \u001b[49m\u001b[43mweights_only\u001b[49m\u001b[43m \u001b[49m\u001b[38;5;241;43m=\u001b[39;49m\u001b[43m \u001b[49m\u001b[38;5;28;43;01mFalse\u001b[39;49;00m\u001b[43m)\u001b[49m\n\u001b[1;32m     47\u001b[0m     model\u001b[38;5;241m.\u001b[39mload_state_dict(checkpoint[\u001b[38;5;124m'\u001b[39m\u001b[38;5;124mmodel_state\u001b[39m\u001b[38;5;124m'\u001b[39m])\n\u001b[1;32m     48\u001b[0m     \u001b[38;5;28mprint\u001b[39m(\u001b[38;5;124m\"\u001b[39m\u001b[38;5;124mModel Loaded\u001b[39m\u001b[38;5;124m\"\u001b[39m)\n",
      "File \u001b[0;32m~/anaconda3/envs/uni/lib/python3.11/site-packages/torch/serialization.py:1065\u001b[0m, in \u001b[0;36mload\u001b[0;34m(f, map_location, pickle_module, weights_only, mmap, **pickle_load_args)\u001b[0m\n\u001b[1;32m   1062\u001b[0m \u001b[38;5;28;01mif\u001b[39;00m \u001b[38;5;124m'\u001b[39m\u001b[38;5;124mencoding\u001b[39m\u001b[38;5;124m'\u001b[39m \u001b[38;5;129;01mnot\u001b[39;00m \u001b[38;5;129;01min\u001b[39;00m pickle_load_args\u001b[38;5;241m.\u001b[39mkeys():\n\u001b[1;32m   1063\u001b[0m     pickle_load_args[\u001b[38;5;124m'\u001b[39m\u001b[38;5;124mencoding\u001b[39m\u001b[38;5;124m'\u001b[39m] \u001b[38;5;241m=\u001b[39m \u001b[38;5;124m'\u001b[39m\u001b[38;5;124mutf-8\u001b[39m\u001b[38;5;124m'\u001b[39m\n\u001b[0;32m-> 1065\u001b[0m \u001b[38;5;28;01mwith\u001b[39;00m \u001b[43m_open_file_like\u001b[49m\u001b[43m(\u001b[49m\u001b[43mf\u001b[49m\u001b[43m,\u001b[49m\u001b[43m \u001b[49m\u001b[38;5;124;43m'\u001b[39;49m\u001b[38;5;124;43mrb\u001b[39;49m\u001b[38;5;124;43m'\u001b[39;49m\u001b[43m)\u001b[49m \u001b[38;5;28;01mas\u001b[39;00m opened_file:\n\u001b[1;32m   1066\u001b[0m     \u001b[38;5;28;01mif\u001b[39;00m _is_zipfile(opened_file):\n\u001b[1;32m   1067\u001b[0m         \u001b[38;5;66;03m# The zipfile reader is going to advance the current file position.\u001b[39;00m\n\u001b[1;32m   1068\u001b[0m         \u001b[38;5;66;03m# If we want to actually tail call to torch.jit.load, we need to\u001b[39;00m\n\u001b[1;32m   1069\u001b[0m         \u001b[38;5;66;03m# reset back to the original position.\u001b[39;00m\n\u001b[1;32m   1070\u001b[0m         orig_position \u001b[38;5;241m=\u001b[39m opened_file\u001b[38;5;241m.\u001b[39mtell()\n",
      "File \u001b[0;32m~/anaconda3/envs/uni/lib/python3.11/site-packages/torch/serialization.py:468\u001b[0m, in \u001b[0;36m_open_file_like\u001b[0;34m(name_or_buffer, mode)\u001b[0m\n\u001b[1;32m    466\u001b[0m \u001b[38;5;28;01mdef\u001b[39;00m \u001b[38;5;21m_open_file_like\u001b[39m(name_or_buffer, mode):\n\u001b[1;32m    467\u001b[0m     \u001b[38;5;28;01mif\u001b[39;00m _is_path(name_or_buffer):\n\u001b[0;32m--> 468\u001b[0m         \u001b[38;5;28;01mreturn\u001b[39;00m \u001b[43m_open_file\u001b[49m\u001b[43m(\u001b[49m\u001b[43mname_or_buffer\u001b[49m\u001b[43m,\u001b[49m\u001b[43m \u001b[49m\u001b[43mmode\u001b[49m\u001b[43m)\u001b[49m\n\u001b[1;32m    469\u001b[0m     \u001b[38;5;28;01melse\u001b[39;00m:\n\u001b[1;32m    470\u001b[0m         \u001b[38;5;28;01mif\u001b[39;00m \u001b[38;5;124m'\u001b[39m\u001b[38;5;124mw\u001b[39m\u001b[38;5;124m'\u001b[39m \u001b[38;5;129;01min\u001b[39;00m mode:\n",
      "File \u001b[0;32m~/anaconda3/envs/uni/lib/python3.11/site-packages/torch/serialization.py:449\u001b[0m, in \u001b[0;36m_open_file.__init__\u001b[0;34m(self, name, mode)\u001b[0m\n\u001b[1;32m    448\u001b[0m \u001b[38;5;28;01mdef\u001b[39;00m \u001b[38;5;21m__init__\u001b[39m(\u001b[38;5;28mself\u001b[39m, name, mode):\n\u001b[0;32m--> 449\u001b[0m     \u001b[38;5;28msuper\u001b[39m()\u001b[38;5;241m.\u001b[39m\u001b[38;5;21m__init__\u001b[39m(\u001b[38;5;28mopen\u001b[39m(name, mode))\n",
      "\u001b[0;31mFileNotFoundError\u001b[0m: [Errno 2] No such file or directory: '3_0.72_full.pth'"
     ]
    }
   ],
   "source": [
    "best_model = \"3_0.72_full.pth\"\n",
    "config = DistilBertConfig(num_labels=5)\n",
    "model = DistilBertForSequenceClassification(config=config)\n",
    "model = load_model(best_model, model)"
   ]
  },
  {
   "cell_type": "code",
   "execution_count": null,
   "metadata": {},
   "outputs": [],
   "source": [
    "torch.save(model.state_dict(), \"distilbert_model_state.pth\")\n"
   ]
  },
  {
   "cell_type": "code",
   "execution_count": null,
   "metadata": {},
   "outputs": [],
   "source": [
    "lyrics = \"\"\"I was told the true definition of a man was to never cry\n",
    "Work 'til you tired (yeah), got to provide (yeah)\n",
    "Always be the rock for my fam, protect them by all means\n",
    "And give you the things that you need, baby\n",
    "Our relationship is suffering\n",
    "Tryna give you what I never had\n",
    "You say I don't know to love you, baby\n",
    "Well, I say show me the way\n",
    "I keep my feelings deep inside I\n",
    "Shadow them with my pride eye\n",
    "I'm trying desperately, baby, just work with me\n",
    "Teach me how to love\n",
    "Show me the way to surrender my heart, girl, I'm so lost (yeah)\n",
    "Teach me how to love (yeah)\n",
    "How I can get my emotions involved (yeah), teach me\n",
    "Show me how to love\n",
    "Show me the way to surrender my heart, girl, I'm so lost (lost)\n",
    "Teach me how to love\n",
    "How I can get my emotions involved (yeah)\n",
    "Teach me (uh), how to love\n",
    "I was always taught to be strong\n",
    "Never let them think you care at all\n",
    "Let no one get close to me before you and me\n",
    "I done shared things witchu, girl, about my past that I'd never tell\n",
    "To anyone else, no, just keep it to myself, yeah\n",
    "Girl, I know I lack affection and expressin' my feelings\n",
    "It took me a minute to come and admit this but\n",
    "See I'm really tryna change now\n",
    "Wanna love you better, show me how\n",
    "I'm tryin' desperately, baby, please work with me\n",
    "Teach me how to love\n",
    "Show me the way to surrender my heart (my heart), girl, I'm so lost (yeah)\n",
    "Teach me how to love\n",
    "How I can get my emotions involved (yeah), teach me (teach me)\n",
    "Show me how to love\n",
    "Show me the way to surrender my heart, girl, I'm so lost (oh)\n",
    "Teach me how to love\n",
    "How I can get my emotions involved (yeah)\n",
    "Teach me (teach me), how to love\n",
    "Ain't nobody ever took the time to try to teach me\n",
    "What love was but you\n",
    "And I ain't never trust no one enough\n",
    "To let 'em tell me what to do\n",
    "Teach me how to really show it\n",
    "And show me how to really love you, baby\n",
    "Teach me, please, just show me, yeah\n",
    "'Cause I'm willing to let go of my fears\n",
    "Girl, I'm serious about all that I've said\n",
    "Girl, I wanna love you with all my heart (wanna love you with all my heart)\n",
    "Baby, show me where to start\n",
    "Teach me how to love\n",
    "Show me the way to surrender my heart, girl, I'm so lost (ooh)\n",
    "Teach me how to love (love, love, love)\n",
    "How I can get my emotions involved, teach me (involved, yeah)\n",
    "Show me how to love\n",
    "Show me the way to surrender my heart, girl, I'm so lost (so lost)\n",
    "Teach me how to love (yeah)\n",
    "How I can get my emotions involved (teach me)\n",
    "Teach me how, how to love\n",
    "Teach me how to love you, baby (uh)\n",
    "Girl, just teach me how to love you better\n",
    "You know I wanna love you better, girl\n",
    "Oh, yeah, yeah, yeah\n",
    "\n",
    "\"\"\""
   ]
  },
  {
   "cell_type": "code",
   "execution_count": 151,
   "metadata": {},
   "outputs": [
    {
     "name": "stdout",
     "output_type": "stream",
     "text": [
      "{'rap': '14.14%', 'rock': '0.37%', 'rb': '79.55%', 'pop': '5.91%', 'country': '0.02%'}\n"
     ]
    }
   ],
   "source": [
    "data = {\n",
    "    \"text\": lyrics\n",
    "}\n",
    "\n",
    "# Send a POST request to the API\n",
    "response = requests.post(url, json=data)\n",
    "\n",
    "# Print the response from the API\n",
    "print(response.json())"
   ]
  }
 ],
 "metadata": {
  "kernelspec": {
   "display_name": "uni",
   "language": "python",
   "name": "python3"
  },
  "language_info": {
   "codemirror_mode": {
    "name": "ipython",
    "version": 3
   },
   "file_extension": ".py",
   "mimetype": "text/x-python",
   "name": "python",
   "nbconvert_exporter": "python",
   "pygments_lexer": "ipython3",
   "version": "3.11.5"
  }
 },
 "nbformat": 4,
 "nbformat_minor": 2
}
