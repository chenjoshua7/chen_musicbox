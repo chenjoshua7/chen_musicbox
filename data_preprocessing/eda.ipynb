{
 "cells": [
  {
   "cell_type": "code",
   "execution_count": 2,
   "metadata": {},
   "outputs": [],
   "source": [
    "import pymysql\n",
    "import pandas as pd"
   ]
  },
  {
   "cell_type": "code",
   "execution_count": 50,
   "metadata": {},
   "outputs": [
    {
     "name": "stdout",
     "output_type": "stream",
     "text": [
      "Starting Data Loading\n",
      "Connected\n"
     ]
    }
   ],
   "source": [
    "print(\"Starting Data Loading\")\n",
    "data = pd.read_csv(\"filtered_data.csv\")\n",
    "\n",
    "conn = pymysql.connect(host='localhost',\n",
    "                    user='root',\n",
    "                    password='huahua20101',\n",
    "                    db='song_lyrics')\n",
    "\n",
    "cursor = conn.cursor()\n",
    "print(\"Connected\")\n"
   ]
  },
  {
   "cell_type": "code",
   "execution_count": 51,
   "metadata": {},
   "outputs": [
    {
     "name": "stdout",
     "output_type": "stream",
     "text": [
      "Table Created or already exists\n"
     ]
    }
   ],
   "source": [
    "try:\n",
    "    cursor.execute(\n",
    "        \"\"\"\n",
    "        CREATE TABLE IF NOT EXISTS songs_data (\n",
    "        id INT PRIMARY KEY,\n",
    "        title TEXT,\n",
    "        genre NVARCHAR(10),\n",
    "        artist TEXT,\n",
    "        year YEAR,\n",
    "        views INT,\n",
    "        features TEXT,\n",
    "        lyrics TEXT\n",
    "        )\n",
    "        \"\"\"\n",
    "    )\n",
    "    print(\"Table Created or already exists\")\n",
    "except pymysql.MySQLError as e:\n",
    "    print(f\"Error creating table: {e}\")"
   ]
  },
  {
   "cell_type": "code",
   "execution_count": 52,
   "metadata": {},
   "outputs": [
    {
     "name": "stderr",
     "output_type": "stream",
     "text": [
      "5059it [00:00, 6039.84it/s]"
     ]
    },
    {
     "name": "stdout",
     "output_type": "stream",
     "text": [
      "Error inserting data: (1406, \"Data too long for column 'artist' at row 1\")\n"
     ]
    },
    {
     "name": "stderr",
     "output_type": "stream",
     "text": [
      "\n"
     ]
    }
   ],
   "source": [
    "from tqdm import tqdm\n",
    "\n",
    "try:\n",
    "    for row in tqdm(data.itertuples()):\n",
    "        cursor.execute(\n",
    "            \"\"\"\n",
    "            INSERT INTO songs_data (id, title, genre, artist, year, views, features, lyrics)\n",
    "            VALUES (%s, %s, %s, %s, %s, %s, %s, %s)\n",
    "            \"\"\",\n",
    "            (row.id, row.title, row.tag, row.artist, row.year, row.views, row.features, row.lyrics)\n",
    "        )\n",
    "    conn.commit()\n",
    "    print(\"Data inserted successfully.\")\n",
    "except pymysql.MySQLError as e:\n",
    "    print(f\"Error inserting data: {e}\")"
   ]
  },
  {
   "cell_type": "code",
   "execution_count": 45,
   "metadata": {},
   "outputs": [
    {
     "name": "stderr",
     "output_type": "stream",
     "text": [
      "Inserting Batches:   0%|          | 0/5432 [00:00<?, ?batch/s]"
     ]
    },
    {
     "name": "stdout",
     "output_type": "stream",
     "text": [
      "Error inserting data: Cursor closed\n"
     ]
    },
    {
     "name": "stderr",
     "output_type": "stream",
     "text": [
      "\n"
     ]
    }
   ],
   "source": [
    "batch_size = 100\n",
    "try:\n",
    "    for i in tqdm(range(0, len(data), batch_size), desc=\"Inserting Batches\", unit=\"batch\"):\n",
    "        batch = data.iloc[i:i + batch_size]\n",
    "        values = [\n",
    "            (row.id, row.title, row.tag, row.artist, row.year, row.views, row.features, row.lyrics)\n",
    "            for row in batch.itertuples()\n",
    "        ]\n",
    "        cursor.executemany(\n",
    "            \"\"\"\n",
    "            INSERT INTO songs_data (id, title, genre, artist, year, views, features, lyrics)\n",
    "            VALUES (%s, %s, %s, %s, %s, %s, %s, %s)\n",
    "            \"\"\", values\n",
    "        )\n",
    "        conn.commit()\n",
    "    print(\"Data inserted successfully.\")\n",
    "except pymysql.MySQLError as e:\n",
    "    print(f\"Error inserting data: {e}\")\n"
   ]
  },
  {
   "cell_type": "code",
   "execution_count": 19,
   "metadata": {},
   "outputs": [],
   "source": [
    "def query_sql(query):\n",
    "    cursor.execute(query)\n",
    "    data = cursor.fetchall()\n",
    "    columns = [i[0] for i in cursor.description]\n",
    "    return pd.DataFrame(data, columns = columns)"
   ]
  },
  {
   "cell_type": "code",
   "execution_count": 35,
   "metadata": {},
   "outputs": [
    {
     "data": {
      "text/html": [
       "<div>\n",
       "<style scoped>\n",
       "    .dataframe tbody tr th:only-of-type {\n",
       "        vertical-align: middle;\n",
       "    }\n",
       "\n",
       "    .dataframe tbody tr th {\n",
       "        vertical-align: top;\n",
       "    }\n",
       "\n",
       "    .dataframe thead th {\n",
       "        text-align: right;\n",
       "    }\n",
       "</style>\n",
       "<table border=\"1\" class=\"dataframe\">\n",
       "  <thead>\n",
       "    <tr style=\"text-align: right;\">\n",
       "      <th></th>\n",
       "      <th>id</th>\n",
       "      <th>title</th>\n",
       "      <th>genre</th>\n",
       "      <th>artist</th>\n",
       "      <th>year</th>\n",
       "      <th>views</th>\n",
       "      <th>features</th>\n",
       "      <th>lyrics</th>\n",
       "    </tr>\n",
       "  </thead>\n",
       "  <tbody>\n",
       "    <tr>\n",
       "      <th>0</th>\n",
       "      <td>1</td>\n",
       "      <td>Killa Cam</td>\n",
       "      <td>rap</td>\n",
       "      <td>Cam'ron</td>\n",
       "      <td>2004</td>\n",
       "      <td>173166</td>\n",
       "      <td>{\"Cam\\\\'ron\",\"Opera Steve\"}</td>\n",
       "      <td>[Chorus: Opera Steve &amp; Cam'ron]\\nKilla Cam, Ki...</td>\n",
       "    </tr>\n",
       "    <tr>\n",
       "      <th>1</th>\n",
       "      <td>3</td>\n",
       "      <td>Can I Live</td>\n",
       "      <td>rap</td>\n",
       "      <td>JAY-Z</td>\n",
       "      <td>1996</td>\n",
       "      <td>468624</td>\n",
       "      <td>{}</td>\n",
       "      <td>[Produced by Irv Gotti]\\n\\n[Intro]\\nYeah, hah,...</td>\n",
       "    </tr>\n",
       "    <tr>\n",
       "      <th>2</th>\n",
       "      <td>4</td>\n",
       "      <td>Forgive Me Father</td>\n",
       "      <td>rap</td>\n",
       "      <td>Fabolous</td>\n",
       "      <td>2003</td>\n",
       "      <td>4743</td>\n",
       "      <td>{}</td>\n",
       "      <td>Maybe cause I'm eatin\\nAnd these bastards fien...</td>\n",
       "    </tr>\n",
       "    <tr>\n",
       "      <th>3</th>\n",
       "      <td>5</td>\n",
       "      <td>Down and Out</td>\n",
       "      <td>rap</td>\n",
       "      <td>Cam'ron</td>\n",
       "      <td>2004</td>\n",
       "      <td>144404</td>\n",
       "      <td>{\"Cam\\\\'ron\",\"Kanye West\",\"Syleena Johnson\"}</td>\n",
       "      <td>[Produced by Kanye West and Brian Miller]\\n\\n[...</td>\n",
       "    </tr>\n",
       "    <tr>\n",
       "      <th>4</th>\n",
       "      <td>6</td>\n",
       "      <td>Fly In</td>\n",
       "      <td>rap</td>\n",
       "      <td>Lil Wayne</td>\n",
       "      <td>2005</td>\n",
       "      <td>78271</td>\n",
       "      <td>{}</td>\n",
       "      <td>[Intro]\\nSo they ask me\\n\"Young boy\\nWhat you ...</td>\n",
       "    </tr>\n",
       "    <tr>\n",
       "      <th>...</th>\n",
       "      <td>...</td>\n",
       "      <td>...</td>\n",
       "      <td>...</td>\n",
       "      <td>...</td>\n",
       "      <td>...</td>\n",
       "      <td>...</td>\n",
       "      <td>...</td>\n",
       "      <td>...</td>\n",
       "    </tr>\n",
       "    <tr>\n",
       "      <th>295</th>\n",
       "      <td>12806</td>\n",
       "      <td>Drama A/T</td>\n",
       "      <td>rap</td>\n",
       "      <td>Canibus</td>\n",
       "      <td>2002</td>\n",
       "      <td>2355</td>\n",
       "      <td>{Luminati}</td>\n",
       "      <td>[Verse 1: Canibus]\\nExecutive Order 11002\\nThe...</td>\n",
       "    </tr>\n",
       "    <tr>\n",
       "      <th>296</th>\n",
       "      <td>17475</td>\n",
       "      <td>Blackout</td>\n",
       "      <td>rap</td>\n",
       "      <td>DMX</td>\n",
       "      <td>1998</td>\n",
       "      <td>54163</td>\n",
       "      <td>{JAY-Z,\"The LOX\"}</td>\n",
       "      <td>[Intro: Sheek Louch &amp; Jadakiss]\\nJay\\nFuck tha...</td>\n",
       "    </tr>\n",
       "    <tr>\n",
       "      <th>297</th>\n",
       "      <td>17476</td>\n",
       "      <td>Keep Your Shit the Hardest</td>\n",
       "      <td>rap</td>\n",
       "      <td>DMX</td>\n",
       "      <td>1998</td>\n",
       "      <td>8212</td>\n",
       "      <td>{}</td>\n",
       "      <td>[Chorus]\\nNow what y'all want me to do\\nKeep y...</td>\n",
       "    </tr>\n",
       "    <tr>\n",
       "      <th>298</th>\n",
       "      <td>17565</td>\n",
       "      <td>Still Po Pimpin</td>\n",
       "      <td>rap</td>\n",
       "      <td>Do or Die</td>\n",
       "      <td>1998</td>\n",
       "      <td>9035</td>\n",
       "      <td>{Twista,\"Johnny P\"}</td>\n",
       "      <td>[Johnny P]\\nDo you wanna ride with me (yeah, o...</td>\n",
       "    </tr>\n",
       "    <tr>\n",
       "      <th>299</th>\n",
       "      <td>17570</td>\n",
       "      <td>Money Flow</td>\n",
       "      <td>rap</td>\n",
       "      <td>Do or Die</td>\n",
       "      <td>1996</td>\n",
       "      <td>3523</td>\n",
       "      <td>{Twista}</td>\n",
       "      <td>(N.A.R.D.S., talking)\\nNow for some typical re...</td>\n",
       "    </tr>\n",
       "  </tbody>\n",
       "</table>\n",
       "<p>300 rows × 8 columns</p>\n",
       "</div>"
      ],
      "text/plain": [
       "        id                       title genre     artist  year   views  \\\n",
       "0        1                   Killa Cam   rap    Cam'ron  2004  173166   \n",
       "1        3                  Can I Live   rap      JAY-Z  1996  468624   \n",
       "2        4           Forgive Me Father   rap   Fabolous  2003    4743   \n",
       "3        5                Down and Out   rap    Cam'ron  2004  144404   \n",
       "4        6                      Fly In   rap  Lil Wayne  2005   78271   \n",
       "..     ...                         ...   ...        ...   ...     ...   \n",
       "295  12806                   Drama A/T   rap    Canibus  2002    2355   \n",
       "296  17475                    Blackout   rap        DMX  1998   54163   \n",
       "297  17476  Keep Your Shit the Hardest   rap        DMX  1998    8212   \n",
       "298  17565             Still Po Pimpin   rap  Do or Die  1998    9035   \n",
       "299  17570                  Money Flow   rap  Do or Die  1996    3523   \n",
       "\n",
       "                                         features  \\\n",
       "0                     {\"Cam\\\\'ron\",\"Opera Steve\"}   \n",
       "1                                              {}   \n",
       "2                                              {}   \n",
       "3    {\"Cam\\\\'ron\",\"Kanye West\",\"Syleena Johnson\"}   \n",
       "4                                              {}   \n",
       "..                                            ...   \n",
       "295                                    {Luminati}   \n",
       "296                             {JAY-Z,\"The LOX\"}   \n",
       "297                                            {}   \n",
       "298                           {Twista,\"Johnny P\"}   \n",
       "299                                      {Twista}   \n",
       "\n",
       "                                                lyrics  \n",
       "0    [Chorus: Opera Steve & Cam'ron]\\nKilla Cam, Ki...  \n",
       "1    [Produced by Irv Gotti]\\n\\n[Intro]\\nYeah, hah,...  \n",
       "2    Maybe cause I'm eatin\\nAnd these bastards fien...  \n",
       "3    [Produced by Kanye West and Brian Miller]\\n\\n[...  \n",
       "4    [Intro]\\nSo they ask me\\n\"Young boy\\nWhat you ...  \n",
       "..                                                 ...  \n",
       "295  [Verse 1: Canibus]\\nExecutive Order 11002\\nThe...  \n",
       "296  [Intro: Sheek Louch & Jadakiss]\\nJay\\nFuck tha...  \n",
       "297  [Chorus]\\nNow what y'all want me to do\\nKeep y...  \n",
       "298  [Johnny P]\\nDo you wanna ride with me (yeah, o...  \n",
       "299  (N.A.R.D.S., talking)\\nNow for some typical re...  \n",
       "\n",
       "[300 rows x 8 columns]"
      ]
     },
     "execution_count": 35,
     "metadata": {},
     "output_type": "execute_result"
    }
   ],
   "source": [
    "query_sql(\"SELECT * FROM songs_data\")"
   ]
  },
  {
   "cell_type": "code",
   "execution_count": 41,
   "metadata": {},
   "outputs": [],
   "source": [
    "conn.rollback()"
   ]
  },
  {
   "cell_type": "code",
   "execution_count": 49,
   "metadata": {},
   "outputs": [],
   "source": [
    "cursor.close()\n",
    "conn.close()\n"
   ]
  },
  {
   "cell_type": "code",
   "execution_count": null,
   "metadata": {},
   "outputs": [],
   "source": []
  }
 ],
 "metadata": {
  "kernelspec": {
   "display_name": "uni",
   "language": "python",
   "name": "python3"
  },
  "language_info": {
   "codemirror_mode": {
    "name": "ipython",
    "version": 3
   },
   "file_extension": ".py",
   "mimetype": "text/x-python",
   "name": "python",
   "nbconvert_exporter": "python",
   "pygments_lexer": "ipython3",
   "version": "3.11.5"
  }
 },
 "nbformat": 4,
 "nbformat_minor": 2
}
